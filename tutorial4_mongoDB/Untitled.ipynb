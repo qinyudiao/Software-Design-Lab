{
 "cells": [
  {
   "cell_type": "code",
   "execution_count": 16,
   "metadata": {},
   "outputs": [],
   "source": [
    "import pymongo"
   ]
  },
  {
   "cell_type": "code",
   "execution_count": 18,
   "metadata": {},
   "outputs": [],
   "source": [
    "from pymongo import MongoClient"
   ]
  },
  {
   "cell_type": "code",
   "execution_count": 17,
   "metadata": {},
   "outputs": [],
   "source": [
    "client = MongoClient()"
   ]
  },
  {
   "cell_type": "code",
   "execution_count": 19,
   "metadata": {},
   "outputs": [],
   "source": [
    "client = MongoClient(\"localhost\", 27017)"
   ]
  },
  {
   "cell_type": "code",
   "execution_count": 20,
   "metadata": {},
   "outputs": [],
   "source": [
    "db = client['datacampdb']"
   ]
  },
  {
   "cell_type": "code",
   "execution_count": 21,
   "metadata": {},
   "outputs": [],
   "source": [
    "article = {\"author\": \"Derrick Mwiti\",\n",
    "          \"about\": \"Introduction to MongoDB and Python\",\n",
    "          \"tags\": \n",
    "              [\"mongodb\", \"python\", \"pymongo\"]}"
   ]
  },
  {
   "cell_type": "code",
   "execution_count": 22,
   "metadata": {},
   "outputs": [],
   "source": [
    "articles = db.articles"
   ]
  },
  {
   "cell_type": "code",
   "execution_count": 23,
   "metadata": {},
   "outputs": [],
   "source": [
    "result = articles.insert_one(article)"
   ]
  },
  {
   "cell_type": "code",
   "execution_count": 24,
   "metadata": {},
   "outputs": [
    {
     "name": "stdout",
     "output_type": "stream",
     "text": [
      "First article key is 5e4de6816b529143cdf24a8d\n"
     ]
    }
   ],
   "source": [
    "print(\"First article key is {}\".format(result.inserted_id))"
   ]
  },
  {
   "cell_type": "code",
   "execution_count": 25,
   "metadata": {},
   "outputs": [
    {
     "data": {
      "text/plain": [
       "['articles']"
      ]
     },
     "execution_count": 25,
     "metadata": {},
     "output_type": "execute_result"
    }
   ],
   "source": [
    "db.list_collection_names()"
   ]
  },
  {
   "cell_type": "code",
   "execution_count": 26,
   "metadata": {},
   "outputs": [
    {
     "name": "stdout",
     "output_type": "stream",
     "text": [
      "The new article IDs are [ObjectId('5e4de6846b529143cdf24a8e'), ObjectId('5e4de6846b529143cdf24a8f')]\n"
     ]
    }
   ],
   "source": [
    "article1 = {\"author\": \"Emmanuel Kens\",\n",
    "            \"about\": \"Knn and Python\",\n",
    "            \"tags\":\n",
    "                [\"Knn\",\"pymongo\"]}\n",
    "article2 = {\"author\": \"Daniel Kimeli\",\n",
    "            \"about\": \"Web Development and Python\",\n",
    "            \"tags\":\n",
    "                [\"web\", \"design\", \"HTML\"]}\n",
    "new_articles = articles.insert_many([article1, article2])\n",
    "print(\"The new article IDs are {}\".format(new_articles.inserted_ids))"
   ]
  },
  {
   "cell_type": "code",
   "execution_count": 27,
   "metadata": {},
   "outputs": [
    {
     "name": "stdout",
     "output_type": "stream",
     "text": [
      "{'_id': ObjectId('5e4de6816b529143cdf24a8d'), 'author': 'Derrick Mwiti', 'about': 'Introduction to MongoDB and Python', 'tags': ['mongodb', 'python', 'pymongo']}\n"
     ]
    }
   ],
   "source": [
    "print(articles.find_one())"
   ]
  },
  {
   "cell_type": "code",
   "execution_count": 28,
   "metadata": {},
   "outputs": [
    {
     "name": "stdout",
     "output_type": "stream",
     "text": [
      "{'_id': ObjectId('5e4de6816b529143cdf24a8d'), 'author': 'Derrick Mwiti', 'about': 'Introduction to MongoDB and Python', 'tags': ['mongodb', 'python', 'pymongo']}\n",
      "{'_id': ObjectId('5e4de6846b529143cdf24a8e'), 'author': 'Emmanuel Kens', 'about': 'Knn and Python', 'tags': ['Knn', 'pymongo']}\n",
      "{'_id': ObjectId('5e4de6846b529143cdf24a8f'), 'author': 'Daniel Kimeli', 'about': 'Web Development and Python', 'tags': ['web', 'design', 'HTML']}\n"
     ]
    }
   ],
   "source": [
    "for article in articles.find():\n",
    "  print(article)"
   ]
  },
  {
   "cell_type": "code",
   "execution_count": 30,
   "metadata": {},
   "outputs": [],
   "source": [
    "from bson.objectid import ObjectId\n",
    "def get(post_id):\n",
    "    document = client.db.collection.find_one({'_id': ObjectId(post_id)})"
   ]
  },
  {
   "cell_type": "code",
   "execution_count": 31,
   "metadata": {},
   "outputs": [
    {
     "name": "stdout",
     "output_type": "stream",
     "text": [
      "{'author': 'Derrick Mwiti', 'about': 'Introduction to MongoDB and Python'}\n",
      "{'author': 'Emmanuel Kens', 'about': 'Knn and Python'}\n",
      "{'author': 'Daniel Kimeli', 'about': 'Web Development and Python'}\n"
     ]
    }
   ],
   "source": [
    "for article in articles.find({},{ \"_id\": 0, \"author\": 1, \"about\": 1}):\n",
    "  print(article)"
   ]
  },
  {
   "cell_type": "code",
   "execution_count": 32,
   "metadata": {},
   "outputs": [
    {
     "name": "stdout",
     "output_type": "stream",
     "text": [
      "{'_id': ObjectId('5e4de6846b529143cdf24a8e'), 'author': 'Emmanuel Kens', 'about': 'Knn and Python', 'tags': ['Knn', 'pymongo']}\n",
      "{'_id': ObjectId('5e4de6816b529143cdf24a8d'), 'author': 'Derrick Mwiti', 'about': 'Introduction to MongoDB and Python', 'tags': ['mongodb', 'python', 'pymongo']}\n",
      "{'_id': ObjectId('5e4de6846b529143cdf24a8f'), 'author': 'Daniel Kimeli', 'about': 'Web Development and Python', 'tags': ['web', 'design', 'HTML']}\n"
     ]
    }
   ],
   "source": [
    "doc = articles.find().sort(\"author\", -1)\n",
    "\n",
    "for x in doc:\n",
    "  print(x)"
   ]
  },
  {
   "cell_type": "code",
   "execution_count": 33,
   "metadata": {},
   "outputs": [
    {
     "name": "stdout",
     "output_type": "stream",
     "text": [
      "{'_id': ObjectId('5e4de6816b529143cdf24a8d'), 'author': 'John David', 'about': 'Introduction to MongoDB and Python', 'tags': ['mongodb', 'python', 'pymongo']}\n",
      "{'_id': ObjectId('5e4de6846b529143cdf24a8e'), 'author': 'Emmanuel Kens', 'about': 'Knn and Python', 'tags': ['Knn', 'pymongo']}\n",
      "{'_id': ObjectId('5e4de6846b529143cdf24a8f'), 'author': 'Daniel Kimeli', 'about': 'Web Development and Python', 'tags': ['web', 'design', 'HTML']}\n"
     ]
    }
   ],
   "source": [
    "query = { \"author\": \"Derrick Mwiti\" }\n",
    "new_author = { \"$set\": { \"author\": \"John David\" } }\n",
    "\n",
    "articles.update_one(query, new_author)\n",
    "\n",
    "for article in articles.find():\n",
    "  print(article)"
   ]
  },
  {
   "cell_type": "code",
   "execution_count": 34,
   "metadata": {},
   "outputs": [
    {
     "name": "stdout",
     "output_type": "stream",
     "text": [
      "{'_id': ObjectId('5e4de6816b529143cdf24a8d'), 'author': 'John David', 'about': 'Introduction to MongoDB and Python', 'tags': ['mongodb', 'python', 'pymongo']}\n"
     ]
    }
   ],
   "source": [
    "limited_result = articles.find().limit(1)\n",
    "for x in limited_result:\n",
    "    print(x)"
   ]
  },
  {
   "cell_type": "code",
   "execution_count": 35,
   "metadata": {},
   "outputs": [
    {
     "data": {
      "text/plain": [
       "<pymongo.results.DeleteResult at 0x10a5df508>"
      ]
     },
     "execution_count": 35,
     "metadata": {},
     "output_type": "execute_result"
    }
   ],
   "source": [
    "db.articles.delete_one({\"_id\":ObjectId(\"5ba4d00e2e8ca029163417d4\")})"
   ]
  },
  {
   "cell_type": "code",
   "execution_count": 36,
   "metadata": {},
   "outputs": [
    {
     "name": "stdout",
     "output_type": "stream",
     "text": [
      "3  articles deleted.\n"
     ]
    }
   ],
   "source": [
    "delete_articles = articles.delete_many({})\n",
    "print(delete_articles.deleted_count, \" articles deleted.\")"
   ]
  },
  {
   "cell_type": "code",
   "execution_count": 37,
   "metadata": {},
   "outputs": [],
   "source": [
    "articles.drop()"
   ]
  },
  {
   "cell_type": "code",
   "execution_count": 38,
   "metadata": {},
   "outputs": [
    {
     "data": {
      "text/plain": [
       "[]"
      ]
     },
     "execution_count": 38,
     "metadata": {},
     "output_type": "execute_result"
    }
   ],
   "source": [
    "db.list_collection_names()"
   ]
  },
  {
   "cell_type": "code",
   "execution_count": 39,
   "metadata": {},
   "outputs": [
    {
     "data": {
      "text/plain": [
       "MongoClient(host=['localhost:27017'], document_class=dict, tz_aware=False, connect=True, read_preference=Primary())"
      ]
     },
     "execution_count": 39,
     "metadata": {},
     "output_type": "execute_result"
    }
   ],
   "source": [
    "from mongoengine import *\n",
    "connect('datacampdb', host='localhost', port=27017)"
   ]
  },
  {
   "cell_type": "code",
   "execution_count": 40,
   "metadata": {},
   "outputs": [],
   "source": [
    "class User(Document):\n",
    "    email = StringField(required=True)\n",
    "    first_name = StringField(max_length=30)\n",
    "    last_name = StringField(max_length=30)"
   ]
  },
  {
   "cell_type": "code",
   "execution_count": 41,
   "metadata": {},
   "outputs": [],
   "source": [
    "class Post(Document):\n",
    "    title = StringField(max_length=120, required=True)\n",
    "    author = ReferenceField(User)"
   ]
  },
  {
   "cell_type": "code",
   "execution_count": 42,
   "metadata": {},
   "outputs": [
    {
     "data": {
      "text/plain": [
       "<User: User object>"
      ]
     },
     "execution_count": 42,
     "metadata": {},
     "output_type": "execute_result"
    }
   ],
   "source": [
    "user = User(email=\"connect@derrickmwiti.com\", first_name=\"Derrick\", last_name=\"Mwiti\")\n",
    "user.save()"
   ]
  },
  {
   "cell_type": "code",
   "execution_count": 43,
   "metadata": {},
   "outputs": [
    {
     "name": "stdout",
     "output_type": "stream",
     "text": [
      "5e4de6e06b529143cdf24a91 connect@derrickmwiti.com Derrick Mwiti\n"
     ]
    }
   ],
   "source": [
    "print(user.id, user.email, user.first_name, user.last_name)"
   ]
  },
  {
   "cell_type": "code",
   "execution_count": null,
   "metadata": {},
   "outputs": [],
   "source": []
  }
 ],
 "metadata": {
  "kernelspec": {
   "display_name": "Python 3",
   "language": "python",
   "name": "python3"
  },
  "language_info": {
   "codemirror_mode": {
    "name": "ipython",
    "version": 3
   },
   "file_extension": ".py",
   "mimetype": "text/x-python",
   "name": "python",
   "nbconvert_exporter": "python",
   "pygments_lexer": "ipython3",
   "version": "3.7.6"
  }
 },
 "nbformat": 4,
 "nbformat_minor": 4
}
